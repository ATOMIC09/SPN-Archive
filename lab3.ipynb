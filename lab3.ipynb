{
 "cells": [
  {
   "cell_type": "markdown",
   "metadata": {},
   "source": [
    "# BMI"
   ]
  },
  {
   "cell_type": "code",
   "execution_count": 1,
   "metadata": {},
   "outputs": [
    {
     "name": "stdout",
     "output_type": "stream",
     "text": [
      "Healthy Weight\n"
     ]
    }
   ],
   "source": [
    "weight = int(input(\"Enter weight : \"))\n",
    "height = int(input(\"Enter height : \"))\n",
    "\n",
    "height_in_metre = height / 100\n",
    "bmi = weight / (height_in_metre**2)\n",
    "\n",
    "if bmi < 18.5 and bmi > 0:\n",
    "    print(\"Underweight\")\n",
    "if bmi <= 24.9 and bmi > 18.5:\n",
    "    print(\"Healthy Weight\")\n",
    "if bmi <= 29.9 and bmi > 25:\n",
    "    print(\"Overweight\")\n",
    "if bmi >= 30.0:\n",
    "    print(\"Obesity\")\n"
   ]
  },
  {
   "cell_type": "markdown",
   "metadata": {},
   "source": [
    "# Grade"
   ]
  },
  {
   "cell_type": "code",
   "execution_count": 4,
   "metadata": {},
   "outputs": [
    {
     "name": "stdout",
     "output_type": "stream",
     "text": [
      "Invalid score\n"
     ]
    }
   ],
   "source": [
    "score = int(input(\"Enter score : \"))\n",
    "\n",
    "if score >= 0 and score <= 100:\n",
    "    if score >= 0 and score <= 49:\n",
    "        print(\"F\")\n",
    "    if score >= 50 and score <= 59:\n",
    "        print(\"D\")\n",
    "    if score >= 60 and score <= 69:\n",
    "        print(\"C\")\n",
    "    if score >= 70 and score <= 79:\n",
    "        print(\"B\")\n",
    "    if score >= 80 and score <= 100:\n",
    "        print(\"A\")\n",
    "else:\n",
    "    print(\"Invalid score\")"
   ]
  },
  {
   "cell_type": "markdown",
   "metadata": {},
   "source": [
    "# Calculate Area"
   ]
  },
  {
   "cell_type": "code",
   "execution_count": 5,
   "metadata": {},
   "outputs": [
    {
     "name": "stdout",
     "output_type": "stream",
     "text": [
      "\n",
      "Football   : False\n",
      "Basketball : True\n",
      "Volleyball : True\n"
     ]
    }
   ],
   "source": [
    "def check_football_area(width, length):\n",
    "    if width > 64 and length > 100:\n",
    "        return True\n",
    "    else:\n",
    "        return False\n",
    "\n",
    "def check_basketball_area(width, length):\n",
    "    if width > 15 and length > 28:\n",
    "        return True\n",
    "    else:\n",
    "        return False\n",
    "    \n",
    "def check_volleyball_area(width, length):\n",
    "    if width > 9 and length > 18:\n",
    "        return True\n",
    "    else:\n",
    "        return False\n",
    "\n",
    "\n",
    "width = int(input(\"Enter width : \"))\n",
    "length = int(input(\"Enter length : \"))\n",
    "print(\"\\nFootball   :\", check_football_area(width, length))\n",
    "print(\"Basketball :\", check_basketball_area(width, length))\n",
    "print(\"Volleyball :\", check_volleyball_area(width, length))"
   ]
  },
  {
   "cell_type": "markdown",
   "metadata": {},
   "source": [
    "# Sort the balls"
   ]
  },
  {
   "cell_type": "code",
   "execution_count": null,
   "metadata": {},
   "outputs": [],
   "source": [
    "def ball_sort(football, basketball, volleyball):\n",
    "    if football > basketball and football > volleyball:\n",
    "        return \"Football\"\n",
    "    if basketball > football and basketball > volleyball:\n",
    "        return \"Basketball\"\n",
    "    if volleyball > football and volleyball > basketball:\n",
    "        return \"Volleyball\"\n",
    "    else:\n",
    "        return \"Invalid\"\n",
    "\n",
    "football = int(input(\"Enter football : \"))\n",
    "basketball = int(input(\"Enter basketball : \"))\n",
    "volleyball = int(input(\"Enter volleyball : \"))\n",
    "\n",
    "print(ball_sort(football, basketball, volleyball))"
   ]
  },
  {
   "cell_type": "markdown",
   "metadata": {},
   "source": [
    "# ?"
   ]
  },
  {
   "cell_type": "code",
   "execution_count": 33,
   "metadata": {},
   "outputs": [
    {
     "name": "stdout",
     "output_type": "stream",
     "text": [
      "Winning lottery:\u001b[93m 369345\n",
      "\u001b[0mYour last 2 digit of lottery:\u001b[93m 57\n",
      "\u001b[0m===========================\n",
      "\u001b[91mYou lose\n",
      "\u001b[96mYou need \u001b[93m12\u001b[96m less to win\n"
     ]
    }
   ],
   "source": [
    "import random\n",
    "\n",
    "my_lottery = int(input(\"Enter your lottery (00-99): \"))\n",
    "random_4digit = str(random.randint(0, 10000)).zfill(4)\n",
    "random_2digit = str(random.randint(0, 100)).zfill(2)\n",
    "\n",
    "print(\"Winning lottery:\\033[93m\", random_4digit+random_2digit)\n",
    "print(\"\\033[0mYour last 2 digit of lottery:\\033[93m\", my_lottery)\n",
    "\n",
    "print(\"\\033[0m===========================\")\n",
    "if str(my_lottery) == random_2digit:\n",
    "    print(\"\\033[92mYou win\") \n",
    "else:\n",
    "    print(\"\\033[91mYou lose\")\n",
    "\n",
    "    if int(my_lottery) < int(random_2digit):\n",
    "        print(f\"\\033[96mYou need \\033[93m{int(random_2digit)-int(my_lottery)}\\033[96m more to win\")\n",
    "    else:\n",
    "        print(f\"\\033[96mYou need \\033[93m{int(my_lottery)-int(random_2digit)}\\033[96m less to win\")\n",
    "\n",
    "# คำแปลก ๆ เป็นแค่โค้ดสี ไม่จำเป็นต้องมี"
   ]
  }
 ],
 "metadata": {
  "kernelspec": {
   "display_name": "Python 3.9.4 64-bit",
   "language": "python",
   "name": "python3"
  },
  "language_info": {
   "codemirror_mode": {
    "name": "ipython",
    "version": 3
   },
   "file_extension": ".py",
   "mimetype": "text/x-python",
   "name": "python",
   "nbconvert_exporter": "python",
   "pygments_lexer": "ipython3",
   "version": "3.9.4"
  },
  "orig_nbformat": 4,
  "vscode": {
   "interpreter": {
    "hash": "24c8a57bf63725b40196aa81e9a53df0e327eca9f78014b0f803ae3acd1d48cb"
   }
  }
 },
 "nbformat": 4,
 "nbformat_minor": 2
}
