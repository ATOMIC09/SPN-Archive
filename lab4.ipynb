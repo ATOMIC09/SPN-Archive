{
 "cells": [
  {
   "cell_type": "markdown",
   "metadata": {},
   "source": [
    "# สูตรคูณ"
   ]
  },
  {
   "cell_type": "code",
   "execution_count": null,
   "metadata": {},
   "outputs": [
    {
     "name": "stdout",
     "output_type": "stream",
     "text": [
      "3 x 1 = 3\n",
      "3 x 2 = 6\n",
      "3 x 3 = 9\n",
      "3 x 4 = 12\n",
      "3 x 5 = 15\n",
      "3 x 6 = 18\n",
      "3 x 7 = 21\n",
      "3 x 8 = 24\n",
      "3 x 9 = 27\n",
      "3 x 10 = 30\n",
      "3 x 11 = 33\n",
      "3 x 12 = 36\n"
     ]
    }
   ],
   "source": [
    "number = int(input(\"Enter number : \"))\n",
    "i = 0\n",
    "\n",
    "while i < 12:\n",
    "    multiply =  number * (i+1)\n",
    "    print(f\"{number} x {i+1} = {multiply}\")\n",
    "    i = i + 1"
   ]
  },
  {
   "cell_type": "markdown",
   "metadata": {},
   "source": [
    "# ATM"
   ]
  },
  {
   "cell_type": "code",
   "execution_count": null,
   "metadata": {},
   "outputs": [],
   "source": [
    "money = 1\n",
    "\n",
    "while money != 0:\n",
    "    money = int(input(\"Enter money : \"))\n",
    "    ten = money // 10\n",
    "    sade = money % 10\n",
    "\n",
    "    five = sade // 5\n",
    "    one = sade % 5\n",
    "\n",
    "    print(\"Money :\", money)\n",
    "    print(\"Ten coins :\", ten)\n",
    "    print(\"Five coins :\", five)\n",
    "    print(\"One coins :\", one)\n",
    "    print(\"=================\")"
   ]
  },
  {
   "cell_type": "markdown",
   "metadata": {},
   "source": [
    "# Durian"
   ]
  },
  {
   "cell_type": "code",
   "execution_count": 1,
   "metadata": {},
   "outputs": [
    {
     "name": "stdout",
     "output_type": "stream",
     "text": [
      "Number of Durian : 1\n",
      "Weight Durian : 1\n",
      "Average weight of Durian : 1.0\n",
      "=================\n",
      "Number of Durian : 2\n",
      "Weight Durian : 3\n",
      "Average weight of Durian : 1.5\n",
      "=================\n",
      "Number of Durian : 3\n",
      "Weight Durian : 6\n",
      "Average weight of Durian : 2.0\n",
      "=================\n",
      "Number of Durian : 4\n",
      "Weight Durian : 10\n",
      "Average weight of Durian : 2.5\n",
      "=================\n"
     ]
    }
   ],
   "source": [
    "weight = 1\n",
    "weight_durian = 0\n",
    "number_of_durian = 0\n",
    "weight = int(input(\"Enter weight of Durian : \"))\n",
    "\n",
    "while weight != 0:\n",
    "    weight_durian = weight_durian + weight\n",
    "    number_of_durian = number_of_durian + 1\n",
    "    avg = weight_durian / number_of_durian\n",
    "\n",
    "    print(\"Number of Durian :\", number_of_durian)\n",
    "    print(\"Weight Durian :\", weight_durian)\n",
    "    print(\"Average weight of Durian :\", avg)\n",
    "    print(\"=================\")\n",
    "    weight = int(input(\"Enter weight of Durian : \"))\n",
    "\n",
    "\n",
    "\n"
   ]
  },
  {
   "cell_type": "markdown",
   "metadata": {},
   "source": [
    "# Random number game"
   ]
  },
  {
   "cell_type": "code",
   "execution_count": 7,
   "metadata": {},
   "outputs": [
    {
     "name": "stdout",
     "output_type": "stream",
     "text": [
      "Lower : 1\n",
      "Invalid\n"
     ]
    }
   ],
   "source": [
    "import random\n",
    "\n",
    "#x = random.randint(1, 100)\n",
    "x = 14\n",
    "\n",
    "while True:\n",
    "    y = int(input(\"Enter number : \"))\n",
    "\n",
    "    if y == x:\n",
    "        print(\"You win\")\n",
    "        break\n",
    "    if y > x:\n",
    "        print(\"Lower :\", y-x)\n",
    "    if y < x:\n",
    "        print(\"Higher :\",x-y)\n",
    "    else:\n",
    "        print(\"Invalid\")\n",
    "        break"
   ]
  }
 ],
 "metadata": {
  "kernelspec": {
   "display_name": "Python 3.9.4 64-bit",
   "language": "python",
   "name": "python3"
  },
  "language_info": {
   "name": "python",
   "version": "3.9.4"
  },
  "orig_nbformat": 4,
  "vscode": {
   "interpreter": {
    "hash": "24c8a57bf63725b40196aa81e9a53df0e327eca9f78014b0f803ae3acd1d48cb"
   }
  }
 },
 "nbformat": 4,
 "nbformat_minor": 2
}
