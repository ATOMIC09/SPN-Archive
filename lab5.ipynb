{
 "cells": [
  {
   "cell_type": "markdown",
   "metadata": {},
   "source": [
    "# Find max/min/average of an array"
   ]
  },
  {
   "cell_type": "code",
   "execution_count": 3,
   "metadata": {},
   "outputs": [
    {
     "name": "stdout",
     "output_type": "stream",
     "text": [
      "Max :  77\n",
      "Min :  1\n",
      "Avg :  12.5\n"
     ]
    }
   ],
   "source": [
    "data = [2,3,1,4,5,6,77,10,8,9]\n",
    "\n",
    "def mymax(value):\n",
    "    count = 1\n",
    "    mymaxvalue = value[count-1] # ตัวที่ 0\n",
    "\n",
    "    while count < len(value):\n",
    "        if mymaxvalue < value[count]: # ถ้าตัวก่อนน้อยกว่าตัวถัดไป\n",
    "            mymaxvalue = value[count]\n",
    "        count = count + 1\n",
    "    return mymaxvalue\n",
    "\n",
    "\n",
    "def mymin(value):\n",
    "    count = 1\n",
    "    myminvalue = value[count-1] # ตัวที่ 0\n",
    "\n",
    "    while count < len(value):\n",
    "        if myminvalue > value[count]: # ถ้าตัวก่อนน้อยกว่าตัวถัดไป\n",
    "            myminvalue = value[count]\n",
    "        count = count + 1\n",
    "    return myminvalue\n",
    "\n",
    "\n",
    "def myavg(value):\n",
    "    count = 0\n",
    "    sum = 0\n",
    "\n",
    "    while count < len(value):\n",
    "        sum = sum + value[count]\n",
    "        count = count + 1\n",
    "    \n",
    "    avg = sum/len(value)\n",
    "    return(avg)\n",
    "\n",
    "\n",
    "def findminmaxavg(value):\n",
    "    print(\"Max : \", mymax(value))\n",
    "    print(\"Min : \", mymin(value))\n",
    "    print(\"Avg : \", myavg(value))\n",
    "\n",
    "findminmaxavg(data)"
   ]
  },
  {
   "cell_type": "markdown",
   "metadata": {},
   "source": [
    "# Search for a value in an array (return index)"
   ]
  },
  {
   "cell_type": "code",
   "execution_count": 5,
   "metadata": {},
   "outputs": [
    {
     "name": "stdout",
     "output_type": "stream",
     "text": [
      "Index of 10 : 7\n"
     ]
    }
   ],
   "source": [
    "data = [2,3,1,4,5,6,77,10,8,9]\n",
    "\n",
    "def findvalue(value, search):\n",
    "    count = 0\n",
    "    while count <= len(value)-1:\n",
    "        if search == value[count]:\n",
    "            print(\"Index of\", search, \":\", count)\n",
    "        count = count + 1\n",
    "\n",
    "findvalue(data,10)"
   ]
  },
  {
   "cell_type": "markdown",
   "metadata": {},
   "source": [
    "# Convert base 10 number to binary number (base 2)\n",
    "e.g. 9 (base 10) is 1001 (base 2)"
   ]
  },
  {
   "cell_type": "code",
   "execution_count": 6,
   "metadata": {},
   "outputs": [
    {
     "name": "stdout",
     "output_type": "stream",
     "text": [
      "[1, 1, 0, 0, 1, 0, 0]\n"
     ]
    }
   ],
   "source": [
    "def decimalTobinary(number):\n",
    "    result = []\n",
    "\n",
    "    while number != 0:\n",
    "        result.append(number%2)\n",
    "        number = number//2\n",
    "\n",
    "    printcount = len(result)-1\n",
    "    reversed_result = []\n",
    "\n",
    "    while printcount >= 0:\n",
    "        reversed_result.append(result[printcount])\n",
    "        printcount = printcount - 1\n",
    "\n",
    "    print(reversed_result)\n",
    "\n",
    "decimalTobinary(100)"
   ]
  },
  {
   "cell_type": "markdown",
   "metadata": {},
   "source": [
    "# Convert binary to decimal"
   ]
  },
  {
   "cell_type": "code",
   "execution_count": 17,
   "metadata": {},
   "outputs": [
    {
     "ename": "IndexError",
     "evalue": "string index out of range",
     "output_type": "error",
     "traceback": [
      "\u001b[1;31m---------------------------------------------------------------------------\u001b[0m",
      "\u001b[1;31mIndexError\u001b[0m                                Traceback (most recent call last)",
      "\u001b[1;32mc:\\Users\\phuta\\Documents\\GitHub\\SPN-Archive\\lab5.ipynb Cell 8\u001b[0m in \u001b[0;36m<cell line: 19>\u001b[1;34m()\u001b[0m\n\u001b[0;32m     <a href='vscode-notebook-cell:/c%3A/Users/phuta/Documents/GitHub/SPN-Archive/lab5.ipynb#X10sZmlsZQ%3D%3D?line=15'>16</a>\u001b[0m         i \u001b[39m=\u001b[39m i \u001b[39m+\u001b[39m \u001b[39m1\u001b[39m\n\u001b[0;32m     <a href='vscode-notebook-cell:/c%3A/Users/phuta/Documents/GitHub/SPN-Archive/lab5.ipynb#X10sZmlsZQ%3D%3D?line=16'>17</a>\u001b[0m     \u001b[39mprint\u001b[39m(\u001b[39msum\u001b[39m)\n\u001b[1;32m---> <a href='vscode-notebook-cell:/c%3A/Users/phuta/Documents/GitHub/SPN-Archive/lab5.ipynb#X10sZmlsZQ%3D%3D?line=18'>19</a>\u001b[0m binaryTodecimal(\u001b[39m1100100\u001b[39;49m)\n",
      "\u001b[1;32mc:\\Users\\phuta\\Documents\\GitHub\\SPN-Archive\\lab5.ipynb Cell 8\u001b[0m in \u001b[0;36mbinaryTodecimal\u001b[1;34m(number)\u001b[0m\n\u001b[0;32m      <a href='vscode-notebook-cell:/c%3A/Users/phuta/Documents/GitHub/SPN-Archive/lab5.ipynb#X10sZmlsZQ%3D%3D?line=5'>6</a>\u001b[0m \u001b[39m# ยัดเลขลงไปใน list ชื่อ binary (แบบกลับด้าน)\u001b[39;00m\n\u001b[0;32m      <a href='vscode-notebook-cell:/c%3A/Users/phuta/Documents/GitHub/SPN-Archive/lab5.ipynb#X10sZmlsZQ%3D%3D?line=6'>7</a>\u001b[0m \u001b[39mwhile\u001b[39;00m count \u001b[39m>\u001b[39m\u001b[39m=\u001b[39m \u001b[39m0\u001b[39m:\n\u001b[1;32m----> <a href='vscode-notebook-cell:/c%3A/Users/phuta/Documents/GitHub/SPN-Archive/lab5.ipynb#X10sZmlsZQ%3D%3D?line=7'>8</a>\u001b[0m     binary\u001b[39m.\u001b[39mappend(number_str[count])\n\u001b[0;32m      <a href='vscode-notebook-cell:/c%3A/Users/phuta/Documents/GitHub/SPN-Archive/lab5.ipynb#X10sZmlsZQ%3D%3D?line=8'>9</a>\u001b[0m     count \u001b[39m=\u001b[39m count \u001b[39m-\u001b[39m \u001b[39m1\u001b[39m\n\u001b[0;32m     <a href='vscode-notebook-cell:/c%3A/Users/phuta/Documents/GitHub/SPN-Archive/lab5.ipynb#X10sZmlsZQ%3D%3D?line=10'>11</a>\u001b[0m i \u001b[39m=\u001b[39m \u001b[39m0\u001b[39m\n",
      "\u001b[1;31mIndexError\u001b[0m: string index out of range"
     ]
    }
   ],
   "source": [
    "def binaryTodecimal(number):\n",
    "    number_str = str(number)\n",
    "    binary = []\n",
    "    count = len(number_str)-1\n",
    "\n",
    "    # ยัดเลขลงไปใน list ชื่อ binary (แบบกลับด้าน)\n",
    "    while count >= 0:\n",
    "        binary.append(number_str[count])\n",
    "        count = count - 1\n",
    "\n",
    "    i = 0\n",
    "    sum = 0\n",
    "    while i < len(binary):\n",
    "        if binary[i] == \"1\": # ตรวจว่ามี 1 หรือไม่\n",
    "            sum = sum + 2**i # ถ้ามี จะนำ i ของลูปนั้นไปเป็นชี้กำลังของ 2\n",
    "        i = i + 1\n",
    "    print(sum)\n",
    "\n",
    "binaryTodecimal(1100100)\n"
   ]
  }
 ],
 "metadata": {
  "kernelspec": {
   "display_name": "Python 3.9.4 64-bit",
   "language": "python",
   "name": "python3"
  },
  "language_info": {
   "codemirror_mode": {
    "name": "ipython",
    "version": 3
   },
   "file_extension": ".py",
   "mimetype": "text/x-python",
   "name": "python",
   "nbconvert_exporter": "python",
   "pygments_lexer": "ipython3",
   "version": "3.9.4"
  },
  "orig_nbformat": 4,
  "vscode": {
   "interpreter": {
    "hash": "24c8a57bf63725b40196aa81e9a53df0e327eca9f78014b0f803ae3acd1d48cb"
   }
  }
 },
 "nbformat": 4,
 "nbformat_minor": 2
}
